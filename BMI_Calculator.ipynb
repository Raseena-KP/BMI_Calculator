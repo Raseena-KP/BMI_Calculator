{
 "cells": [
  {
   "cell_type": "markdown",
   "id": "8398fa9a",
   "metadata": {},
   "source": [
    "# BMI Calculator"
   ]
  },
  {
   "cell_type": "markdown",
   "id": "ffcbfae6",
   "metadata": {},
   "source": [
    "BMI(Body Mass Index): Its a measure of body mass based on height & weight\n",
    "It can be calculated using pounds and inches:</br>\n",
    "\n",
    "Calulation of BMI:</br>\n",
    "\n",
    "BMI=(weight in pounds x 703)/ (height in inches x height in inches)"
   ]
  },
  {
   "cell_type": "code",
   "execution_count": 8,
   "id": "772868b8",
   "metadata": {},
   "outputs": [
    {
     "name": "stdout",
     "output_type": "stream",
     "text": [
      "Please enter your Name: ras\n",
      "Please enter you body mass in pounds:170\n",
      "Please enter your height in inches:69\n",
      "Your BMI=  25.101869355177485\n",
      "ras, You are OverWeight\n"
     ]
    }
   ],
   "source": [
    "name=input('Please enter your Name: ')\n",
    "weight=int(input('Please enter you body mass in pounds:'))\n",
    "height= int(input('Please enter your height in inches:'))\n",
    "\n",
    "bmi= (weight*703)/(height*height)\n",
    "print(\"Your BMI= \",bmi)\n",
    "\n",
    "\n",
    "if bmi>0:\n",
    "    if (bmi<18.5):\n",
    "        print(name+\", You are underweight\")\n",
    "    elif (bmi<=24.9):\n",
    "        print(name+\", You are Normal Weight\")\n",
    "    elif (bmi<29.9):\n",
    "        print(name+\", You are OverWeight\")\n",
    "    elif (bmi<34.9):\n",
    "        print(name+\", You are Obese\")\n",
    "    elif bmi<39.9:\n",
    "        print(name+\", You are Severely Obese\")\n",
    "    else:\n",
    "        print(name+\", You are Morbidly Obese\")\n",
    "else:\n",
    "    print('Enter valid input')"
   ]
  }
 ],
 "metadata": {
  "kernelspec": {
   "display_name": "Python 3 (ipykernel)",
   "language": "python",
   "name": "python3"
  },
  "language_info": {
   "codemirror_mode": {
    "name": "ipython",
    "version": 3
   },
   "file_extension": ".py",
   "mimetype": "text/x-python",
   "name": "python",
   "nbconvert_exporter": "python",
   "pygments_lexer": "ipython3",
   "version": "3.9.13"
  }
 },
 "nbformat": 4,
 "nbformat_minor": 5
}
